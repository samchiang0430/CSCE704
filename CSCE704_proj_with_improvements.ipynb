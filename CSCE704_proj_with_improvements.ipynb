{
 "cells": [
  {
   "cell_type": "code",
   "execution_count": 49,
   "id": "e34d23b1",
   "metadata": {},
   "outputs": [],
   "source": [
    "\n",
    "import pandas as pd\n",
    "import numpy as np\n",
    "import tensorflow as tf\n",
    "from tensorflow.keras.models import Sequential\n",
    "from tensorflow.keras.layers import Dense, Dropout\n",
    "from tensorflow.keras.optimizers import Adam\n",
    "from tensorflow.keras.callbacks import EarlyStopping, LearningRateScheduler\n",
    "from sklearn.model_selection import train_test_split\n",
    "from sklearn.utils import class_weight\n"
   ]
  },
  {
   "cell_type": "code",
   "execution_count": 50,
   "id": "99e9fd40",
   "metadata": {},
   "outputs": [],
   "source": [
    "\n",
    "# Load the data and preprocess 'Bytes' column\n",
    "data = pd.read_csv('shuffled_file_paths.csv')\n",
    "X = []\n",
    "\n",
    "for bytes_data in data['Bytes']:\n",
    "    # Convert hex or integer to byte array format\n",
    "    if isinstance(bytes_data, int):\n",
    "        byte_array = bytes([bytes_data])\n",
    "    elif isinstance(bytes_data, str):\n",
    "        byte_array = bytes.fromhex(bytes_data)\n",
    "    else:\n",
    "        byte_array = bytes(bytes_data)\n",
    "    # Convert bytes to a scaled array of floats\n",
    "    X.append(np.frombuffer(byte_array, dtype=np.uint8) / 255.0)\n",
    "\n",
    "X = np.array(X)\n",
    "y = data['Target'].values  # Extract target labels\n",
    "\n",
    "# Split data into training and validation sets\n",
    "X_train, X_val, y_train, y_val = train_test_split(X, y, test_size=0.2, random_state=42)\n"
   ]
  },
  {
   "cell_type": "code",
   "execution_count": 51,
   "id": "b8f878ea",
   "metadata": {},
   "outputs": [
    {
     "name": "stderr",
     "output_type": "stream",
     "text": [
      "C:\\Users\\Sam\\AppData\\Local\\Packages\\PythonSoftwareFoundation.Python.3.11_qbz5n2kfra8p0\\LocalCache\\local-packages\\Python311\\site-packages\\keras\\src\\layers\\core\\dense.py:87: UserWarning: Do not pass an `input_shape`/`input_dim` argument to a layer. When using Sequential models, prefer using an `Input(shape)` object as the first layer in the model instead.\n",
      "  super().__init__(activity_regularizer=activity_regularizer, **kwargs)\n"
     ]
    }
   ],
   "source": [
    "\n",
    "# Define model architecture with increased complexity and L2 regularization\n",
    "from tensorflow.keras.regularizers import l2\n",
    "\n",
    "input_shape = X_train.shape[1]\n",
    "model = Sequential([\n",
    "    Dense(512, activation='relu', kernel_regularizer=l2(0.01), input_shape=(input_shape,)),\n",
    "    Dropout(0.3),\n",
    "    Dense(256, activation='relu', kernel_regularizer=l2(0.01)),\n",
    "    Dropout(0.3),\n",
    "    Dense(128, activation='relu', kernel_regularizer=l2(0.01)),\n",
    "    Dropout(0.3),\n",
    "    Dense(1, activation='sigmoid')  # Output layer for binary classification\n",
    "])\n"
   ]
  },
  {
   "cell_type": "code",
   "execution_count": 52,
   "id": "64fe3523",
   "metadata": {},
   "outputs": [],
   "source": [
    "\n",
    "# Compile the model with Adam optimizer and lower initial learning rate\n",
    "model.compile(optimizer=Adam(learning_rate=0.0005),\n",
    "              loss='binary_crossentropy',\n",
    "              metrics=['accuracy', tf.keras.metrics.Precision(), tf.keras.metrics.Recall()])\n",
    "\n",
    "# Adjusted class weights for improved accuracy\n",
    "class_weights = {0: 5, 1: 1}\n"
   ]
  },
  {
   "cell_type": "code",
   "execution_count": 53,
   "id": "76630a3c",
   "metadata": {},
   "outputs": [],
   "source": [
    "\n",
    "# Define learning rate scheduler and early stopping\n",
    "def lr_scheduler(epoch, lr):\n",
    "    return lr * 0.5 if (epoch % 5 == 0 and epoch) else lr\n",
    "\n",
    "callbacks = [\n",
    "    EarlyStopping(monitor='val_loss', patience=3, restore_best_weights=True),\n",
    "    LearningRateScheduler(lr_scheduler)\n",
    "]\n"
   ]
  },
  {
   "cell_type": "code",
   "execution_count": 54,
   "id": "7eb02f87",
   "metadata": {},
   "outputs": [
    {
     "name": "stdout",
     "output_type": "stream",
     "text": [
      "Epoch 1/50\n",
      "\u001b[1m158/158\u001b[0m \u001b[32m━━━━━━━━━━━━━━━━━━━━\u001b[0m\u001b[37m\u001b[0m \u001b[1m1s\u001b[0m 3ms/step - accuracy: 0.8862 - loss: 4.0236 - precision_8: 0.9084 - recall_8: 0.9655 - val_accuracy: 0.9188 - val_loss: 0.9855 - val_precision_8: 0.9188 - val_recall_8: 1.0000 - learning_rate: 5.0000e-04\n",
      "Epoch 2/50\n",
      "\u001b[1m158/158\u001b[0m \u001b[32m━━━━━━━━━━━━━━━━━━━━\u001b[0m\u001b[37m\u001b[0m \u001b[1m0s\u001b[0m 2ms/step - accuracy: 0.9097 - loss: 1.1052 - precision_8: 0.9097 - recall_8: 1.0000 - val_accuracy: 0.9188 - val_loss: 0.6526 - val_precision_8: 0.9188 - val_recall_8: 1.0000 - learning_rate: 5.0000e-04\n",
      "Epoch 3/50\n",
      "\u001b[1m158/158\u001b[0m \u001b[32m━━━━━━━━━━━━━━━━━━━━\u001b[0m\u001b[37m\u001b[0m \u001b[1m0s\u001b[0m 2ms/step - accuracy: 0.9141 - loss: 0.9060 - precision_8: 0.9141 - recall_8: 1.0000 - val_accuracy: 0.9188 - val_loss: 0.6154 - val_precision_8: 0.9188 - val_recall_8: 1.0000 - learning_rate: 5.0000e-04\n",
      "Epoch 4/50\n",
      "\u001b[1m158/158\u001b[0m \u001b[32m━━━━━━━━━━━━━━━━━━━━\u001b[0m\u001b[37m\u001b[0m \u001b[1m0s\u001b[0m 2ms/step - accuracy: 0.9148 - loss: 0.8855 - precision_8: 0.9148 - recall_8: 1.0000 - val_accuracy: 0.9188 - val_loss: 0.5942 - val_precision_8: 0.9188 - val_recall_8: 1.0000 - learning_rate: 5.0000e-04\n",
      "Epoch 5/50\n",
      "\u001b[1m158/158\u001b[0m \u001b[32m━━━━━━━━━━━━━━━━━━━━\u001b[0m\u001b[37m\u001b[0m \u001b[1m0s\u001b[0m 2ms/step - accuracy: 0.9098 - loss: 0.8939 - precision_8: 0.9098 - recall_8: 1.0000 - val_accuracy: 0.9188 - val_loss: 0.5759 - val_precision_8: 0.9188 - val_recall_8: 1.0000 - learning_rate: 5.0000e-04\n",
      "Epoch 6/50\n",
      "\u001b[1m158/158\u001b[0m \u001b[32m━━━━━━━━━━━━━━━━━━━━\u001b[0m\u001b[37m\u001b[0m \u001b[1m0s\u001b[0m 2ms/step - accuracy: 0.9069 - loss: 0.8987 - precision_8: 0.9069 - recall_8: 1.0000 - val_accuracy: 0.9188 - val_loss: 0.5675 - val_precision_8: 0.9188 - val_recall_8: 1.0000 - learning_rate: 2.5000e-04\n",
      "Epoch 7/50\n",
      "\u001b[1m158/158\u001b[0m \u001b[32m━━━━━━━━━━━━━━━━━━━━\u001b[0m\u001b[37m\u001b[0m \u001b[1m0s\u001b[0m 2ms/step - accuracy: 0.9113 - loss: 0.8790 - precision_8: 0.9113 - recall_8: 1.0000 - val_accuracy: 0.9188 - val_loss: 0.5593 - val_precision_8: 0.9188 - val_recall_8: 1.0000 - learning_rate: 2.5000e-04\n",
      "Epoch 8/50\n",
      "\u001b[1m158/158\u001b[0m \u001b[32m━━━━━━━━━━━━━━━━━━━━\u001b[0m\u001b[37m\u001b[0m \u001b[1m0s\u001b[0m 2ms/step - accuracy: 0.9148 - loss: 0.8624 - precision_8: 0.9148 - recall_8: 1.0000 - val_accuracy: 0.9188 - val_loss: 0.5516 - val_precision_8: 0.9188 - val_recall_8: 1.0000 - learning_rate: 2.5000e-04\n",
      "Epoch 9/50\n",
      "\u001b[1m158/158\u001b[0m \u001b[32m━━━━━━━━━━━━━━━━━━━━\u001b[0m\u001b[37m\u001b[0m \u001b[1m0s\u001b[0m 2ms/step - accuracy: 0.9159 - loss: 0.8554 - precision_8: 0.9159 - recall_8: 1.0000 - val_accuracy: 0.9188 - val_loss: 0.5443 - val_precision_8: 0.9188 - val_recall_8: 1.0000 - learning_rate: 2.5000e-04\n",
      "Epoch 10/50\n",
      "\u001b[1m158/158\u001b[0m \u001b[32m━━━━━━━━━━━━━━━━━━━━\u001b[0m\u001b[37m\u001b[0m \u001b[1m0s\u001b[0m 2ms/step - accuracy: 0.9088 - loss: 0.8816 - precision_8: 0.9088 - recall_8: 1.0000 - val_accuracy: 0.9188 - val_loss: 0.5374 - val_precision_8: 0.9188 - val_recall_8: 1.0000 - learning_rate: 2.5000e-04\n",
      "Epoch 11/50\n",
      "\u001b[1m158/158\u001b[0m \u001b[32m━━━━━━━━━━━━━━━━━━━━\u001b[0m\u001b[37m\u001b[0m \u001b[1m0s\u001b[0m 2ms/step - accuracy: 0.9144 - loss: 0.8569 - precision_8: 0.9144 - recall_8: 1.0000 - val_accuracy: 0.9188 - val_loss: 0.5341 - val_precision_8: 0.9188 - val_recall_8: 1.0000 - learning_rate: 1.2500e-04\n",
      "Epoch 12/50\n",
      "\u001b[1m158/158\u001b[0m \u001b[32m━━━━━━━━━━━━━━━━━━━━\u001b[0m\u001b[37m\u001b[0m \u001b[1m0s\u001b[0m 2ms/step - accuracy: 0.9151 - loss: 0.8528 - precision_8: 0.9151 - recall_8: 1.0000 - val_accuracy: 0.9188 - val_loss: 0.5309 - val_precision_8: 0.9188 - val_recall_8: 1.0000 - learning_rate: 1.2500e-04\n",
      "Epoch 13/50\n",
      "\u001b[1m158/158\u001b[0m \u001b[32m━━━━━━━━━━━━━━━━━━━━\u001b[0m\u001b[37m\u001b[0m \u001b[1m0s\u001b[0m 2ms/step - accuracy: 0.9117 - loss: 0.8662 - precision_8: 0.9117 - recall_8: 1.0000 - val_accuracy: 0.9188 - val_loss: 0.5279 - val_precision_8: 0.9188 - val_recall_8: 1.0000 - learning_rate: 1.2500e-04\n",
      "Epoch 14/50\n",
      "\u001b[1m158/158\u001b[0m \u001b[32m━━━━━━━━━━━━━━━━━━━━\u001b[0m\u001b[37m\u001b[0m \u001b[1m0s\u001b[0m 2ms/step - accuracy: 0.9162 - loss: 0.8464 - precision_8: 0.9162 - recall_8: 1.0000 - val_accuracy: 0.9188 - val_loss: 0.5247 - val_precision_8: 0.9188 - val_recall_8: 1.0000 - learning_rate: 1.2500e-04\n",
      "Epoch 15/50\n",
      "\u001b[1m158/158\u001b[0m \u001b[32m━━━━━━━━━━━━━━━━━━━━\u001b[0m\u001b[37m\u001b[0m \u001b[1m0s\u001b[0m 2ms/step - accuracy: 0.9065 - loss: 0.8868 - precision_8: 0.9065 - recall_8: 1.0000 - val_accuracy: 0.9188 - val_loss: 0.5220 - val_precision_8: 0.9188 - val_recall_8: 1.0000 - learning_rate: 1.2500e-04\n",
      "Epoch 16/50\n",
      "\u001b[1m158/158\u001b[0m \u001b[32m━━━━━━━━━━━━━━━━━━━━\u001b[0m\u001b[37m\u001b[0m \u001b[1m0s\u001b[0m 2ms/step - accuracy: 0.9144 - loss: 0.8522 - precision_8: 0.9144 - recall_8: 1.0000 - val_accuracy: 0.9188 - val_loss: 0.5205 - val_precision_8: 0.9188 - val_recall_8: 1.0000 - learning_rate: 6.2500e-05\n",
      "Epoch 17/50\n",
      "\u001b[1m158/158\u001b[0m \u001b[32m━━━━━━━━━━━━━━━━━━━━\u001b[0m\u001b[37m\u001b[0m \u001b[1m0s\u001b[0m 2ms/step - accuracy: 0.9107 - loss: 0.8678 - precision_8: 0.9107 - recall_8: 1.0000 - val_accuracy: 0.9188 - val_loss: 0.5190 - val_precision_8: 0.9188 - val_recall_8: 1.0000 - learning_rate: 6.2500e-05\n",
      "Epoch 18/50\n",
      "\u001b[1m158/158\u001b[0m \u001b[32m━━━━━━━━━━━━━━━━━━━━\u001b[0m\u001b[37m\u001b[0m \u001b[1m0s\u001b[0m 2ms/step - accuracy: 0.9098 - loss: 0.8714 - precision_8: 0.9098 - recall_8: 1.0000 - val_accuracy: 0.9188 - val_loss: 0.5176 - val_precision_8: 0.9188 - val_recall_8: 1.0000 - learning_rate: 6.2500e-05\n",
      "Epoch 19/50\n",
      "\u001b[1m158/158\u001b[0m \u001b[32m━━━━━━━━━━━━━━━━━━━━\u001b[0m\u001b[37m\u001b[0m \u001b[1m0s\u001b[0m 2ms/step - accuracy: 0.9138 - loss: 0.8535 - precision_8: 0.9138 - recall_8: 1.0000 - val_accuracy: 0.9188 - val_loss: 0.5162 - val_precision_8: 0.9188 - val_recall_8: 1.0000 - learning_rate: 6.2500e-05\n",
      "Epoch 20/50\n",
      "\u001b[1m158/158\u001b[0m \u001b[32m━━━━━━━━━━━━━━━━━━━━\u001b[0m\u001b[37m\u001b[0m \u001b[1m0s\u001b[0m 2ms/step - accuracy: 0.9147 - loss: 0.8496 - precision_8: 0.9147 - recall_8: 1.0000 - val_accuracy: 0.9188 - val_loss: 0.5148 - val_precision_8: 0.9188 - val_recall_8: 1.0000 - learning_rate: 6.2500e-05\n",
      "Epoch 21/50\n",
      "\u001b[1m158/158\u001b[0m \u001b[32m━━━━━━━━━━━━━━━━━━━━\u001b[0m\u001b[37m\u001b[0m \u001b[1m0s\u001b[0m 2ms/step - accuracy: 0.9134 - loss: 0.8550 - precision_8: 0.9134 - recall_8: 1.0000 - val_accuracy: 0.9188 - val_loss: 0.5142 - val_precision_8: 0.9188 - val_recall_8: 1.0000 - learning_rate: 3.1250e-05\n",
      "Epoch 22/50\n",
      "\u001b[1m158/158\u001b[0m \u001b[32m━━━━━━━━━━━━━━━━━━━━\u001b[0m\u001b[37m\u001b[0m \u001b[1m0s\u001b[0m 2ms/step - accuracy: 0.9103 - loss: 0.8683 - precision_8: 0.9103 - recall_8: 1.0000 - val_accuracy: 0.9188 - val_loss: 0.5134 - val_precision_8: 0.9188 - val_recall_8: 1.0000 - learning_rate: 3.1250e-05\n",
      "Epoch 23/50\n",
      "\u001b[1m158/158\u001b[0m \u001b[32m━━━━━━━━━━━━━━━━━━━━\u001b[0m\u001b[37m\u001b[0m \u001b[1m0s\u001b[0m 2ms/step - accuracy: 0.9121 - loss: 0.8603 - precision_8: 0.9121 - recall_8: 1.0000 - val_accuracy: 0.9188 - val_loss: 0.5127 - val_precision_8: 0.9188 - val_recall_8: 1.0000 - learning_rate: 3.1250e-05\n",
      "Epoch 24/50\n",
      "\u001b[1m158/158\u001b[0m \u001b[32m━━━━━━━━━━━━━━━━━━━━\u001b[0m\u001b[37m\u001b[0m \u001b[1m0s\u001b[0m 2ms/step - accuracy: 0.9157 - loss: 0.8441 - precision_8: 0.9157 - recall_8: 1.0000 - val_accuracy: 0.9188 - val_loss: 0.5121 - val_precision_8: 0.9188 - val_recall_8: 1.0000 - learning_rate: 3.1250e-05\n",
      "Epoch 25/50\n",
      "\u001b[1m158/158\u001b[0m \u001b[32m━━━━━━━━━━━━━━━━━━━━\u001b[0m\u001b[37m\u001b[0m \u001b[1m0s\u001b[0m 2ms/step - accuracy: 0.9084 - loss: 0.8761 - precision_8: 0.9084 - recall_8: 1.0000 - val_accuracy: 0.9188 - val_loss: 0.5114 - val_precision_8: 0.9188 - val_recall_8: 1.0000 - learning_rate: 3.1250e-05\n",
      "Epoch 26/50\n",
      "\u001b[1m158/158\u001b[0m \u001b[32m━━━━━━━━━━━━━━━━━━━━\u001b[0m\u001b[37m\u001b[0m \u001b[1m0s\u001b[0m 2ms/step - accuracy: 0.9134 - loss: 0.8538 - precision_8: 0.9134 - recall_8: 1.0000 - val_accuracy: 0.9188 - val_loss: 0.5111 - val_precision_8: 0.9188 - val_recall_8: 1.0000 - learning_rate: 1.5625e-05\n",
      "Epoch 27/50\n",
      "\u001b[1m158/158\u001b[0m \u001b[32m━━━━━━━━━━━━━━━━━━━━\u001b[0m\u001b[37m\u001b[0m \u001b[1m0s\u001b[0m 2ms/step - accuracy: 0.9162 - loss: 0.8413 - precision_8: 0.9162 - recall_8: 1.0000 - val_accuracy: 0.9188 - val_loss: 0.5108 - val_precision_8: 0.9188 - val_recall_8: 1.0000 - learning_rate: 1.5625e-05\n",
      "Epoch 28/50\n",
      "\u001b[1m158/158\u001b[0m \u001b[32m━━━━━━━━━━━━━━━━━━━━\u001b[0m\u001b[37m\u001b[0m \u001b[1m0s\u001b[0m 2ms/step - accuracy: 0.9070 - loss: 0.8823 - precision_8: 0.9070 - recall_8: 1.0000 - val_accuracy: 0.9188 - val_loss: 0.5105 - val_precision_8: 0.9188 - val_recall_8: 1.0000 - learning_rate: 1.5625e-05\n",
      "Epoch 29/50\n",
      "\u001b[1m158/158\u001b[0m \u001b[32m━━━━━━━━━━━━━━━━━━━━\u001b[0m\u001b[37m\u001b[0m \u001b[1m0s\u001b[0m 2ms/step - accuracy: 0.9128 - loss: 0.8564 - precision_8: 0.9128 - recall_8: 1.0000 - val_accuracy: 0.9188 - val_loss: 0.5101 - val_precision_8: 0.9188 - val_recall_8: 1.0000 - learning_rate: 1.5625e-05\n",
      "Epoch 30/50\n",
      "\u001b[1m158/158\u001b[0m \u001b[32m━━━━━━━━━━━━━━━━━━━━\u001b[0m\u001b[37m\u001b[0m \u001b[1m0s\u001b[0m 2ms/step - accuracy: 0.9061 - loss: 0.8860 - precision_8: 0.9061 - recall_8: 1.0000 - val_accuracy: 0.9188 - val_loss: 0.5098 - val_precision_8: 0.9188 - val_recall_8: 1.0000 - learning_rate: 1.5625e-05\n",
      "Epoch 31/50\n",
      "\u001b[1m158/158\u001b[0m \u001b[32m━━━━━━━━━━━━━━━━━━━━\u001b[0m\u001b[37m\u001b[0m \u001b[1m0s\u001b[0m 2ms/step - accuracy: 0.9113 - loss: 0.8627 - precision_8: 0.9113 - recall_8: 1.0000 - val_accuracy: 0.9188 - val_loss: 0.5096 - val_precision_8: 0.9188 - val_recall_8: 1.0000 - learning_rate: 7.8125e-06\n",
      "Epoch 32/50\n",
      "\u001b[1m158/158\u001b[0m \u001b[32m━━━━━━━━━━━━━━━━━━━━\u001b[0m\u001b[37m\u001b[0m \u001b[1m0s\u001b[0m 2ms/step - accuracy: 0.9122 - loss: 0.8589 - precision_8: 0.9122 - recall_8: 1.0000 - val_accuracy: 0.9188 - val_loss: 0.5094 - val_precision_8: 0.9188 - val_recall_8: 1.0000 - learning_rate: 7.8125e-06\n",
      "Epoch 33/50\n",
      "\u001b[1m158/158\u001b[0m \u001b[32m━━━━━━━━━━━━━━━━━━━━\u001b[0m\u001b[37m\u001b[0m \u001b[1m0s\u001b[0m 2ms/step - accuracy: 0.9158 - loss: 0.8427 - precision_8: 0.9158 - recall_8: 1.0000 - val_accuracy: 0.9188 - val_loss: 0.5093 - val_precision_8: 0.9188 - val_recall_8: 1.0000 - learning_rate: 7.8125e-06\n",
      "Epoch 34/50\n",
      "\u001b[1m158/158\u001b[0m \u001b[32m━━━━━━━━━━━━━━━━━━━━\u001b[0m\u001b[37m\u001b[0m \u001b[1m0s\u001b[0m 2ms/step - accuracy: 0.9179 - loss: 0.8332 - precision_8: 0.9179 - recall_8: 1.0000 - val_accuracy: 0.9188 - val_loss: 0.5091 - val_precision_8: 0.9188 - val_recall_8: 1.0000 - learning_rate: 7.8125e-06\n",
      "Epoch 35/50\n",
      "\u001b[1m158/158\u001b[0m \u001b[32m━━━━━━━━━━━━━━━━━━━━\u001b[0m\u001b[37m\u001b[0m \u001b[1m0s\u001b[0m 2ms/step - accuracy: 0.9094 - loss: 0.8712 - precision_8: 0.9094 - recall_8: 1.0000 - val_accuracy: 0.9188 - val_loss: 0.5089 - val_precision_8: 0.9188 - val_recall_8: 1.0000 - learning_rate: 7.8125e-06\n",
      "Epoch 36/50\n",
      "\u001b[1m158/158\u001b[0m \u001b[32m━━━━━━━━━━━━━━━━━━━━\u001b[0m\u001b[37m\u001b[0m \u001b[1m0s\u001b[0m 2ms/step - accuracy: 0.9131 - loss: 0.8547 - precision_8: 0.9131 - recall_8: 1.0000 - val_accuracy: 0.9188 - val_loss: 0.5089 - val_precision_8: 0.9188 - val_recall_8: 1.0000 - learning_rate: 3.9063e-06\n",
      "Epoch 37/50\n",
      "\u001b[1m158/158\u001b[0m \u001b[32m━━━━━━━━━━━━━━━━━━━━\u001b[0m\u001b[37m\u001b[0m \u001b[1m0s\u001b[0m 2ms/step - accuracy: 0.9135 - loss: 0.8527 - precision_8: 0.9135 - recall_8: 1.0000 - val_accuracy: 0.9188 - val_loss: 0.5088 - val_precision_8: 0.9188 - val_recall_8: 1.0000 - learning_rate: 3.9063e-06\n",
      "Epoch 38/50\n",
      "\u001b[1m158/158\u001b[0m \u001b[32m━━━━━━━━━━━━━━━━━━━━\u001b[0m\u001b[37m\u001b[0m \u001b[1m0s\u001b[0m 2ms/step - accuracy: 0.9174 - loss: 0.8356 - precision_8: 0.9174 - recall_8: 1.0000 - val_accuracy: 0.9188 - val_loss: 0.5087 - val_precision_8: 0.9188 - val_recall_8: 1.0000 - learning_rate: 3.9063e-06\n",
      "Epoch 39/50\n",
      "\u001b[1m158/158\u001b[0m \u001b[32m━━━━━━━━━━━━━━━━━━━━\u001b[0m\u001b[37m\u001b[0m \u001b[1m0s\u001b[0m 2ms/step - accuracy: 0.9136 - loss: 0.8525 - precision_8: 0.9136 - recall_8: 1.0000 - val_accuracy: 0.9188 - val_loss: 0.5086 - val_precision_8: 0.9188 - val_recall_8: 1.0000 - learning_rate: 3.9063e-06\n",
      "Epoch 40/50\n",
      "\u001b[1m158/158\u001b[0m \u001b[32m━━━━━━━━━━━━━━━━━━━━\u001b[0m\u001b[37m\u001b[0m \u001b[1m0s\u001b[0m 2ms/step - accuracy: 0.9154 - loss: 0.8443 - precision_8: 0.9154 - recall_8: 1.0000 - val_accuracy: 0.9188 - val_loss: 0.5085 - val_precision_8: 0.9188 - val_recall_8: 1.0000 - learning_rate: 3.9063e-06\n",
      "Epoch 41/50\n",
      "\u001b[1m158/158\u001b[0m \u001b[32m━━━━━━━━━━━━━━━━━━━━\u001b[0m\u001b[37m\u001b[0m \u001b[1m0s\u001b[0m 2ms/step - accuracy: 0.9133 - loss: 0.8540 - precision_8: 0.9133 - recall_8: 1.0000 - val_accuracy: 0.9188 - val_loss: 0.5085 - val_precision_8: 0.9188 - val_recall_8: 1.0000 - learning_rate: 1.9531e-06\n",
      "Epoch 42/50\n",
      "\u001b[1m158/158\u001b[0m \u001b[32m━━━━━━━━━━━━━━━━━━━━\u001b[0m\u001b[37m\u001b[0m \u001b[1m0s\u001b[0m 2ms/step - accuracy: 0.9165 - loss: 0.8395 - precision_8: 0.9165 - recall_8: 1.0000 - val_accuracy: 0.9188 - val_loss: 0.5084 - val_precision_8: 0.9188 - val_recall_8: 1.0000 - learning_rate: 1.9531e-06\n",
      "Epoch 43/50\n",
      "\u001b[1m158/158\u001b[0m \u001b[32m━━━━━━━━━━━━━━━━━━━━\u001b[0m\u001b[37m\u001b[0m \u001b[1m0s\u001b[0m 2ms/step - accuracy: 0.9132 - loss: 0.8540 - precision_8: 0.9132 - recall_8: 1.0000 - val_accuracy: 0.9188 - val_loss: 0.5084 - val_precision_8: 0.9188 - val_recall_8: 1.0000 - learning_rate: 1.9531e-06\n",
      "Epoch 44/50\n",
      "\u001b[1m158/158\u001b[0m \u001b[32m━━━━━━━━━━━━━━━━━━━━\u001b[0m\u001b[37m\u001b[0m \u001b[1m0s\u001b[0m 2ms/step - accuracy: 0.9169 - loss: 0.8378 - precision_8: 0.9169 - recall_8: 1.0000 - val_accuracy: 0.9188 - val_loss: 0.5084 - val_precision_8: 0.9188 - val_recall_8: 1.0000 - learning_rate: 1.9531e-06\n",
      "Epoch 45/50\n",
      "\u001b[1m158/158\u001b[0m \u001b[32m━━━━━━━━━━━━━━━━━━━━\u001b[0m\u001b[37m\u001b[0m \u001b[1m0s\u001b[0m 2ms/step - accuracy: 0.9056 - loss: 0.8880 - precision_8: 0.9056 - recall_8: 1.0000 - val_accuracy: 0.9188 - val_loss: 0.5083 - val_precision_8: 0.9188 - val_recall_8: 1.0000 - learning_rate: 1.9531e-06\n",
      "Epoch 46/50\n",
      "\u001b[1m158/158\u001b[0m \u001b[32m━━━━━━━━━━━━━━━━━━━━\u001b[0m\u001b[37m\u001b[0m \u001b[1m0s\u001b[0m 2ms/step - accuracy: 0.9131 - loss: 0.8545 - precision_8: 0.9131 - recall_8: 1.0000 - val_accuracy: 0.9188 - val_loss: 0.5083 - val_precision_8: 0.9188 - val_recall_8: 1.0000 - learning_rate: 9.7656e-07\n",
      "Epoch 47/50\n",
      "\u001b[1m158/158\u001b[0m \u001b[32m━━━━━━━━━━━━━━━━━━━━\u001b[0m\u001b[37m\u001b[0m \u001b[1m0s\u001b[0m 2ms/step - accuracy: 0.9131 - loss: 0.8546 - precision_8: 0.9131 - recall_8: 1.0000 - val_accuracy: 0.9188 - val_loss: 0.5083 - val_precision_8: 0.9188 - val_recall_8: 1.0000 - learning_rate: 9.7656e-07\n",
      "Epoch 48/50\n",
      "\u001b[1m158/158\u001b[0m \u001b[32m━━━━━━━━━━━━━━━━━━━━\u001b[0m\u001b[37m\u001b[0m \u001b[1m0s\u001b[0m 2ms/step - accuracy: 0.9158 - loss: 0.8426 - precision_8: 0.9158 - recall_8: 1.0000 - val_accuracy: 0.9188 - val_loss: 0.5083 - val_precision_8: 0.9188 - val_recall_8: 1.0000 - learning_rate: 9.7656e-07\n",
      "Epoch 49/50\n",
      "\u001b[1m158/158\u001b[0m \u001b[32m━━━━━━━━━━━━━━━━━━━━\u001b[0m\u001b[37m\u001b[0m \u001b[1m0s\u001b[0m 2ms/step - accuracy: 0.9076 - loss: 0.8790 - precision_8: 0.9076 - recall_8: 1.0000 - val_accuracy: 0.9188 - val_loss: 0.5082 - val_precision_8: 0.9188 - val_recall_8: 1.0000 - learning_rate: 9.7656e-07\n",
      "Epoch 50/50\n",
      "\u001b[1m158/158\u001b[0m \u001b[32m━━━━━━━━━━━━━━━━━━━━\u001b[0m\u001b[37m\u001b[0m \u001b[1m0s\u001b[0m 2ms/step - accuracy: 0.9116 - loss: 0.8611 - precision_8: 0.9116 - recall_8: 1.0000 - val_accuracy: 0.9188 - val_loss: 0.5082 - val_precision_8: 0.9188 - val_recall_8: 1.0000 - learning_rate: 9.7656e-07\n"
     ]
    }
   ],
   "source": [
    "\n",
    "# Training configuration\n",
    "batch_size = 64\n",
    "epochs = 50\n",
    "\n",
    "# Train the model with new settings\n",
    "history = model.fit(X_train, y_train,\n",
    "                    validation_data=(X_val, y_val),\n",
    "                    batch_size=batch_size,\n",
    "                    epochs=epochs,\n",
    "                    class_weight=class_weights,\n",
    "                    callbacks=callbacks)\n"
   ]
  },
  {
   "cell_type": "code",
   "execution_count": 55,
   "id": "871f0845",
   "metadata": {},
   "outputs": [
    {
     "name": "stderr",
     "output_type": "stream",
     "text": [
      "WARNING:absl:You are saving your model as an HDF5 file via `model.save()` or `keras.saving.save_model(model)`. This file format is considered legacy. We recommend using instead the native Keras format, e.g. `model.save('my_model.keras')` or `keras.saving.save_model(model, 'my_model.keras')`. \n"
     ]
    },
    {
     "name": "stdout",
     "output_type": "stream",
     "text": [
      "Model saved as 'saved_pe_classifier_model.h5'\n"
     ]
    }
   ],
   "source": [
    "# Save the trained model\n",
    "model.save('saved_pe_classifier_model.h5')\n",
    "print(\"Model saved as 'saved_pe_classifier_model.h5'\")\n"
   ]
  },
  {
   "cell_type": "code",
   "execution_count": 56,
   "id": "89dc599b",
   "metadata": {},
   "outputs": [
    {
     "name": "stderr",
     "output_type": "stream",
     "text": [
      "WARNING:absl:Compiled the loaded model, but the compiled metrics have yet to be built. `model.compile_metrics` will be empty until you train or evaluate the model.\n"
     ]
    }
   ],
   "source": [
    "from tensorflow.keras.models import load_model\n",
    "\n",
    "# Load the saved model\n",
    "model = load_model('saved_pe_classifier_model.h5')\n"
   ]
  }
 ],
 "metadata": {
  "kernelspec": {
   "display_name": "Python 3",
   "language": "python",
   "name": "python3"
  },
  "language_info": {
   "codemirror_mode": {
    "name": "ipython",
    "version": 3
   },
   "file_extension": ".py",
   "mimetype": "text/x-python",
   "name": "python",
   "nbconvert_exporter": "python",
   "pygments_lexer": "ipython3",
   "version": "3.11.9"
  }
 },
 "nbformat": 4,
 "nbformat_minor": 5
}
