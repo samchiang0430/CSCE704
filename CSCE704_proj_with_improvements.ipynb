{
 "cells": [
  {
   "cell_type": "code",
   "execution_count": null,
   "id": "e34d23b1",
   "metadata": {},
   "outputs": [],
   "source": [
    "\n",
    "import pandas as pd\n",
    "import numpy as np\n",
    "import tensorflow as tf\n",
    "from tensorflow.keras.models import Sequential\n",
    "from tensorflow.keras.layers import Dense, Dropout\n",
    "from tensorflow.keras.optimizers import Adam\n",
    "from tensorflow.keras.callbacks import EarlyStopping, LearningRateScheduler\n",
    "from sklearn.model_selection import train_test_split\n",
    "from sklearn.utils import class_weight\n"
   ]
  },
  {
   "cell_type": "code",
   "execution_count": null,
   "id": "99e9fd40",
   "metadata": {},
   "outputs": [],
   "source": [
    "\n",
    "# Load the data and preprocess 'Bytes' column\n",
    "data = pd.read_csv('shuffled_file_paths.csv')\n",
    "X = []\n",
    "\n",
    "for bytes_data in data['Bytes']:\n",
    "    # Convert hex or integer to byte array format\n",
    "    if isinstance(bytes_data, int):\n",
    "        byte_array = bytes([bytes_data])\n",
    "    elif isinstance(bytes_data, str):\n",
    "        byte_array = bytes.fromhex(bytes_data)\n",
    "    else:\n",
    "        byte_array = bytes(bytes_data)\n",
    "    # Convert bytes to a scaled array of floats\n",
    "    X.append(np.frombuffer(byte_array, dtype=np.uint8) / 255.0)\n",
    "\n",
    "X = np.array(X)\n",
    "y = data['Target'].values  # Extract target labels\n",
    "\n",
    "# Split data into training and validation sets\n",
    "X_train, X_val, y_train, y_val = train_test_split(X, y, test_size=0.2, random_state=42)\n"
   ]
  },
  {
   "cell_type": "code",
   "execution_count": null,
   "id": "b8f878ea",
   "metadata": {},
   "outputs": [],
   "source": [
    "\n",
    "# Define model architecture with increased complexity and L2 regularization\n",
    "from tensorflow.keras.regularizers import l2\n",
    "\n",
    "input_shape = X_train.shape[1]\n",
    "model = Sequential([\n",
    "    Dense(512, activation='relu', kernel_regularizer=l2(0.01), input_shape=(input_shape,)),\n",
    "    Dropout(0.3),\n",
    "    Dense(256, activation='relu', kernel_regularizer=l2(0.01)),\n",
    "    Dropout(0.3),\n",
    "    Dense(128, activation='relu', kernel_regularizer=l2(0.01)),\n",
    "    Dropout(0.3),\n",
    "    Dense(1, activation='sigmoid')  # Output layer for binary classification\n",
    "])\n"
   ]
  },
  {
   "cell_type": "code",
   "execution_count": null,
   "id": "64fe3523",
   "metadata": {},
   "outputs": [],
   "source": [
    "\n",
    "# Compile the model with Adam optimizer and lower initial learning rate\n",
    "model.compile(optimizer=Adam(learning_rate=0.0005),\n",
    "              loss='binary_crossentropy',\n",
    "              metrics=['accuracy', tf.keras.metrics.Precision(), tf.keras.metrics.Recall()])\n",
    "\n",
    "# Adjusted class weights for improved accuracy\n",
    "class_weights = {0: 3, 1: 1}\n"
   ]
  },
  {
   "cell_type": "code",
   "execution_count": null,
   "id": "76630a3c",
   "metadata": {},
   "outputs": [],
   "source": [
    "\n",
    "# Define learning rate scheduler and early stopping\n",
    "def lr_scheduler(epoch, lr):\n",
    "    return lr * 0.5 if (epoch % 5 == 0 and epoch) else lr\n",
    "\n",
    "callbacks = [\n",
    "    EarlyStopping(monitor='val_loss', patience=3, restore_best_weights=True),\n",
    "    LearningRateScheduler(lr_scheduler)\n",
    "]\n"
   ]
  },
  {
   "cell_type": "code",
   "execution_count": null,
   "id": "7eb02f87",
   "metadata": {},
   "outputs": [],
   "source": [
    "\n",
    "# Training configuration\n",
    "batch_size = 64\n",
    "epochs = 15\n",
    "\n",
    "# Train the model with new settings\n",
    "history = model.fit(X_train, y_train,\n",
    "                    validation_data=(X_val, y_val),\n",
    "                    batch_size=batch_size,\n",
    "                    epochs=epochs,\n",
    "                    class_weight=class_weights,\n",
    "                    callbacks=callbacks)\n"
   ]
  }
 ],
 "metadata": {},
 "nbformat": 4,
 "nbformat_minor": 5
}
